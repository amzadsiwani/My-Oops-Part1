{
 "cells": [
  {
   "cell_type": "markdown",
   "id": "5dc042c1-707e-4b13-b8a8-2db7e8d374a7",
   "metadata": {},
   "source": [
    "\"OOPS\" stands for Object-Oriented Programming System"
   ]
  },
  {
   "cell_type": "code",
   "execution_count": 1,
   "id": "5a030299-abdd-494b-aa3f-37222bc20af1",
   "metadata": {},
   "outputs": [],
   "source": [
    "a=1"
   ]
  },
  {
   "cell_type": "code",
   "execution_count": 2,
   "id": "f195a592-1c1f-4d70-90bd-38209269b520",
   "metadata": {},
   "outputs": [
    {
     "name": "stdout",
     "output_type": "stream",
     "text": [
      "<class 'int'>\n"
     ]
    }
   ],
   "source": [
    "print(type(a))"
   ]
  },
  {
   "cell_type": "code",
   "execution_count": 3,
   "id": "712edb19-7ee3-47d6-97f0-c411cb579b7f",
   "metadata": {},
   "outputs": [
    {
     "name": "stdout",
     "output_type": "stream",
     "text": [
      "<class 'str'>\n"
     ]
    }
   ],
   "source": [
    "print(type(\"pwskills\"))"
   ]
  },
  {
   "cell_type": "code",
   "execution_count": 4,
   "id": "35066019-ae18-47f3-975d-08fe20357f9d",
   "metadata": {},
   "outputs": [
    {
     "ename": "SyntaxError",
     "evalue": "incomplete input (3527747674.py, line 1)",
     "output_type": "error",
     "traceback": [
      "\u001b[0;36m  Cell \u001b[0;32mIn[4], line 1\u001b[0;36m\u001b[0m\n\u001b[0;31m    class test:\u001b[0m\n\u001b[0m               ^\u001b[0m\n\u001b[0;31mSyntaxError\u001b[0m\u001b[0;31m:\u001b[0m incomplete input\n"
     ]
    }
   ],
   "source": [
    "class test:"
   ]
  },
  {
   "cell_type": "code",
   "execution_count": 5,
   "id": "a746268f-e0ba-4897-be47-b2f64733aacc",
   "metadata": {},
   "outputs": [],
   "source": [
    "class test:\n",
    "    pass"
   ]
  },
  {
   "cell_type": "code",
   "execution_count": 6,
   "id": "dde263c3-4fe6-451c-b8dd-b0fade6340e0",
   "metadata": {},
   "outputs": [],
   "source": [
    "a=test()"
   ]
  },
  {
   "cell_type": "code",
   "execution_count": 8,
   "id": "8976cd71-a6ab-4209-8b22-8344e8b2350f",
   "metadata": {},
   "outputs": [
    {
     "data": {
      "text/plain": [
       "__main__.test"
      ]
     },
     "execution_count": 8,
     "metadata": {},
     "output_type": "execute_result"
    }
   ],
   "source": [
    "type(a)"
   ]
  },
  {
   "cell_type": "code",
   "execution_count": 16,
   "id": "f784f257-8cc5-4f8f-b153-04680fdf456a",
   "metadata": {},
   "outputs": [
    {
     "name": "stdout",
     "output_type": "stream",
     "text": [
      "<class '__main__.test'>\n"
     ]
    }
   ],
   "source": [
    "print(type(a))"
   ]
  },
  {
   "cell_type": "code",
   "execution_count": 17,
   "id": "35aabe1e-b60d-4c68-b637-045ff7a0a11d",
   "metadata": {},
   "outputs": [],
   "source": [
    "class pwskills:\n",
    "    \n",
    "    def welcome_msg(self):\n",
    "        print(\"welcome to pwskills\")"
   ]
  },
  {
   "cell_type": "code",
   "execution_count": 18,
   "id": "7fe1c63d-9e21-40b2-b03e-62c2e7b793a1",
   "metadata": {},
   "outputs": [],
   "source": [
    "rohan = pwskills()"
   ]
  },
  {
   "cell_type": "code",
   "execution_count": 19,
   "id": "ebb0c182-af66-48f4-aa9f-8bb84948499e",
   "metadata": {},
   "outputs": [
    {
     "name": "stdout",
     "output_type": "stream",
     "text": [
      "<class '__main__.pwskills'>\n"
     ]
    }
   ],
   "source": [
    "print(type(rohan))"
   ]
  },
  {
   "cell_type": "code",
   "execution_count": 20,
   "id": "7113d442-7386-4c4c-bf67-2149c40d370a",
   "metadata": {},
   "outputs": [
    {
     "name": "stdout",
     "output_type": "stream",
     "text": [
      "welcome to pwskills\n"
     ]
    }
   ],
   "source": [
    "rohan.welcome_msg()"
   ]
  },
  {
   "cell_type": "code",
   "execution_count": 21,
   "id": "1ab2f580-22fd-44ed-bce8-fb8ddc520582",
   "metadata": {},
   "outputs": [],
   "source": [
    "gaurav = pwskills()"
   ]
  },
  {
   "cell_type": "code",
   "execution_count": 22,
   "id": "2fa15fd8-c590-4c9c-896c-491d152e6935",
   "metadata": {},
   "outputs": [
    {
     "name": "stdout",
     "output_type": "stream",
     "text": [
      "welcome to pwskills\n"
     ]
    }
   ],
   "source": [
    "gaurav.welcome_msg()"
   ]
  },
  {
   "cell_type": "code",
   "execution_count": 28,
   "id": "94e457b5-ccd7-4104-af4f-8747be27c3a9",
   "metadata": {},
   "outputs": [],
   "source": [
    "class pwskills1:\n",
    "    \n",
    "    def __init__(self,phone_number,email_id,student_id):\n",
    "        self.phone_number = phone_number\n",
    "        self.email_id = email_id\n",
    "        self.student_id = student_id\n",
    "    def return_student_details(self):\n",
    "        return self.student_id,self.phone_number,self.email_id"
   ]
  },
  {
   "cell_type": "code",
   "execution_count": 29,
   "id": "9a7e2280-298c-4664-ba0c-7bdfe57743cd",
   "metadata": {},
   "outputs": [
    {
     "ename": "TypeError",
     "evalue": "pwskills1.__init__() missing 3 required positional arguments: 'phone_number', 'email_id', and 'student_id'",
     "output_type": "error",
     "traceback": [
      "\u001b[0;31m---------------------------------------------------------------------------\u001b[0m",
      "\u001b[0;31mTypeError\u001b[0m                                 Traceback (most recent call last)",
      "Cell \u001b[0;32mIn[29], line 1\u001b[0m\n\u001b[0;32m----> 1\u001b[0m rohan \u001b[38;5;241m=\u001b[39m \u001b[43mpwskills1\u001b[49m\u001b[43m(\u001b[49m\u001b[43m)\u001b[49m\n",
      "\u001b[0;31mTypeError\u001b[0m: pwskills1.__init__() missing 3 required positional arguments: 'phone_number', 'email_id', and 'student_id'"
     ]
    }
   ],
   "source": [
    "rohan = pwskills1()"
   ]
  },
  {
   "cell_type": "code",
   "execution_count": 30,
   "id": "5d256b71-aea0-481c-9813-d129d7085686",
   "metadata": {},
   "outputs": [],
   "source": [
    "rohan=pwskills1(856945326,\"rohan@gmail.com\",101)"
   ]
  },
  {
   "cell_type": "code",
   "execution_count": 31,
   "id": "ffb2f60e-09c6-4363-9cc9-bac5e455cbc4",
   "metadata": {},
   "outputs": [
    {
     "data": {
      "text/plain": [
       "(101, 856945326, 'rohan@gmail.com')"
      ]
     },
     "execution_count": 31,
     "metadata": {},
     "output_type": "execute_result"
    }
   ],
   "source": [
    "rohan.return_student_details()"
   ]
  },
  {
   "cell_type": "code",
   "execution_count": 32,
   "id": "4d67a3ff-20e1-4124-a670-aea95a8bac28",
   "metadata": {},
   "outputs": [],
   "source": [
    "gaurav=pwskills1(9645240325,\"gaurav@gmail.com\",102)"
   ]
  },
  {
   "cell_type": "code",
   "execution_count": 33,
   "id": "eb0bdc5d-d622-47e4-af75-7b1b3ddcccbe",
   "metadata": {},
   "outputs": [
    {
     "data": {
      "text/plain": [
       "(102, 9645240325, 'gaurav@gmail.com')"
      ]
     },
     "execution_count": 33,
     "metadata": {},
     "output_type": "execute_result"
    }
   ],
   "source": [
    "gaurav.return_student_details()"
   ]
  },
  {
   "cell_type": "code",
   "execution_count": null,
   "id": "1c64b92c-02bf-43dd-bb8e-019f070cda36",
   "metadata": {},
   "outputs": [],
   "source": []
  },
  {
   "cell_type": "code",
   "execution_count": 46,
   "id": "cba9f194-62e5-45a0-80b5-ad8bf453de12",
   "metadata": {},
   "outputs": [],
   "source": [
    "amzd=pwskills2(9965412546,\"amd@gmail.com\",103)"
   ]
  },
  {
   "cell_type": "code",
   "execution_count": 47,
   "id": "b14a4df9-9df5-4011-95f9-3c60a6a7b54a",
   "metadata": {},
   "outputs": [
    {
     "data": {
      "text/plain": [
       "<__main__.pwskills2 at 0x7ff0b8316170>"
      ]
     },
     "execution_count": 47,
     "metadata": {},
     "output_type": "execute_result"
    }
   ],
   "source": [
    "amzd"
   ]
  },
  {
   "cell_type": "code",
   "execution_count": 48,
   "id": "ad1d565d-362a-40c8-a998-d9675649880f",
   "metadata": {},
   "outputs": [
    {
     "data": {
      "text/plain": [
       "9965412546"
      ]
     },
     "execution_count": 48,
     "metadata": {},
     "output_type": "execute_result"
    }
   ],
   "source": [
    "amzd.phone_number1"
   ]
  },
  {
   "cell_type": "code",
   "execution_count": 49,
   "id": "90aa12c2-e38e-4542-b716-1d7bc882023e",
   "metadata": {},
   "outputs": [
    {
     "data": {
      "text/plain": [
       "(103, 9965412546, 'amd@gmail.com')"
      ]
     },
     "execution_count": 49,
     "metadata": {},
     "output_type": "execute_result"
    }
   ],
   "source": [
    "amzd.return_student_details()"
   ]
  },
  {
   "cell_type": "code",
   "execution_count": 50,
   "id": "589d5b08-2bc2-45f4-99fc-e823ff9bcc26",
   "metadata": {},
   "outputs": [],
   "source": [
    "class pwskills2:\n",
    "    \n",
    "    def __init__(amzd,phone_number,email_id,student_id):\n",
    "        amzd.phone_number1 = phone_number\n",
    "        amzd.email_id1 = email_id\n",
    "        amzd.student_id1 = student_id\n",
    "    def return_student_details(amzd):\n",
    "        return amzd.student_id1,amzd.phone_number1,amzd.email_id1"
   ]
  },
  {
   "cell_type": "code",
   "execution_count": 51,
   "id": "5ad079a6-a651-4985-83a4-141eb3613789",
   "metadata": {},
   "outputs": [],
   "source": [
    "rohan = pwskills2(2569364,\"rohan@gmail.com\",356)"
   ]
  },
  {
   "cell_type": "code",
   "execution_count": 52,
   "id": "63e39bb4-b642-46e0-9856-0a66beaa44c0",
   "metadata": {},
   "outputs": [
    {
     "data": {
      "text/plain": [
       "2569364"
      ]
     },
     "execution_count": 52,
     "metadata": {},
     "output_type": "execute_result"
    }
   ],
   "source": [
    "rohan.phone_number1"
   ]
  },
  {
   "cell_type": "code",
   "execution_count": null,
   "id": "0d4d437e-d024-4452-adec-b0dd03820ad9",
   "metadata": {},
   "outputs": [],
   "source": []
  }
 ],
 "metadata": {
  "kernelspec": {
   "display_name": "Python 3 (ipykernel)",
   "language": "python",
   "name": "python3"
  },
  "language_info": {
   "codemirror_mode": {
    "name": "ipython",
    "version": 3
   },
   "file_extension": ".py",
   "mimetype": "text/x-python",
   "name": "python",
   "nbconvert_exporter": "python",
   "pygments_lexer": "ipython3",
   "version": "3.10.8"
  }
 },
 "nbformat": 4,
 "nbformat_minor": 5
}
